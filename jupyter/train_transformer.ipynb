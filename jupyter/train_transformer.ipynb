{
 "cells": [
  {
   "metadata": {},
   "cell_type": "markdown",
   "source": "## train transformer",
   "id": "4bc7f3523a3806ba"
  },
  {
   "metadata": {
    "ExecuteTime": {
     "end_time": "2024-11-22T08:10:24.807053Z",
     "start_time": "2024-11-22T08:10:22.187364Z"
    }
   },
   "cell_type": "code",
   "source": [
    "import torch\n",
    "import torch.nn as nn\n",
    "import torch.nn.functional as F\n",
    "import os\n",
    "import requests\n",
    "from torch.nn.functional import layer_norm"
   ],
   "id": "6bfeebcf4a4b88d8",
   "outputs": [],
   "execution_count": 2
  },
  {
   "metadata": {
    "ExecuteTime": {
     "end_time": "2024-11-22T08:10:24.818804Z",
     "start_time": "2024-11-22T08:10:24.815151Z"
    }
   },
   "cell_type": "code",
   "source": [
    "if not os.path.exists('sales_textbook.txt'):\n",
    "    url = 'https://huggingface.co/datasets/goendalf666/sales-textbook_for_convincing_and_selling/resolve/main/sales_textbook.txt?download=true'\n",
    "    with open('sales_textbook.txt', 'wb') as f:\n",
    "        r = requests.get(url).content\n",
    "        f.write(r)"
   ],
   "id": "2d9d0f6856f345ab",
   "outputs": [],
   "execution_count": 3
  },
  {
   "metadata": {
    "ExecuteTime": {
     "end_time": "2024-11-22T08:10:24.835747Z",
     "start_time": "2024-11-22T08:10:24.831800Z"
    }
   },
   "cell_type": "code",
   "source": [
    "with open('sales_textbook.txt', 'r') as f:\n",
    "    text = f.read()"
   ],
   "id": "f198bf378f006219",
   "outputs": [],
   "execution_count": 4
  },
  {
   "metadata": {
    "ExecuteTime": {
     "end_time": "2024-11-22T08:10:24.854476Z",
     "start_time": "2024-11-22T08:10:24.851555Z"
    }
   },
   "cell_type": "code",
   "source": [
    "# hyper parameters\n",
    "context_length = 16 # number of tokens in context\n",
    "batch_size = 4\n",
    "d_model = 64"
   ],
   "id": "b1e4cbbba610b790",
   "outputs": [],
   "execution_count": 5
  },
  {
   "metadata": {
    "ExecuteTime": {
     "end_time": "2024-11-22T08:10:25.155138Z",
     "start_time": "2024-11-22T08:10:24.865058Z"
    }
   },
   "cell_type": "code",
   "source": [
    "import tiktoken\n",
    "encoding = tiktoken.get_encoding(\"cl100k_base\")\n",
    "tokens = encoding.encode(text)"
   ],
   "id": "74d4b671a2a66d36",
   "outputs": [],
   "execution_count": 6
  },
  {
   "metadata": {
    "ExecuteTime": {
     "end_time": "2024-11-22T08:10:25.196505Z",
     "start_time": "2024-11-22T08:10:25.168382Z"
    }
   },
   "cell_type": "code",
   "source": [
    "max_token_value = torch.tensor(tokens).max().item()\n",
    "\n",
    "train_idx = int(len(tokens) * 0.9) # 90% for train 10% for test\n",
    "train_tokens = torch.tensor(tokens[:train_idx], dtype=torch.long)\n",
    "test_tokens = torch.tensor(tokens[train_idx:], dtype=torch.long)"
   ],
   "id": "d91730c8ef0b5496",
   "outputs": [],
   "execution_count": 7
  },
  {
   "metadata": {
    "ExecuteTime": {
     "end_time": "2024-11-22T08:10:31.978080Z",
     "start_time": "2024-11-22T08:10:31.969633Z"
    }
   },
   "cell_type": "code",
   "source": [
    "idxs = torch.randint(high=len(train_tokens) - context_length - 1, size=(batch_size,))\n",
    "x_batch = torch.stack([train_tokens[i:i+context_length] for i in idxs])\n",
    "y_batch = torch.stack([train_tokens[i+1:i+context_length+1] for i in idxs])\n",
    "\n",
    "x_batch.shape"
   ],
   "id": "1238036e0fc706ab",
   "outputs": [
    {
     "data": {
      "text/plain": [
       "torch.Size([4, 16])"
      ]
     },
     "execution_count": 24,
     "metadata": {},
     "output_type": "execute_result"
    }
   ],
   "execution_count": 24
  },
  {
   "metadata": {
    "ExecuteTime": {
     "end_time": "2024-11-22T08:10:25.612085Z",
     "start_time": "2024-11-22T08:10:25.271290Z"
    }
   },
   "cell_type": "code",
   "source": [
    "import pandas as pd\n",
    "import numpy as np\n",
    "\n",
    "print(f\"PyTorch version: {torch.__version__}\")\n",
    "print(f\"NumPy version: {np.__version__}\")"
   ],
   "id": "ef857221605bab4c",
   "outputs": [
    {
     "name": "stdout",
     "output_type": "stream",
     "text": [
      "PyTorch version: 2.2.2\n",
      "NumPy version: 1.26.4\n"
     ]
    }
   ],
   "execution_count": 9
  },
  {
   "metadata": {
    "ExecuteTime": {
     "end_time": "2024-11-22T08:10:25.686214Z",
     "start_time": "2024-11-22T08:10:25.619326Z"
    }
   },
   "cell_type": "code",
   "source": [
    "input_embedding = nn.Embedding(max_token_value+1, d_model)\n",
    "x_batch_embedding = input_embedding(x_batch)\n",
    "y_batch_embedding = input_embedding(y_batch)\n",
    "\n",
    "x_batch_embedding.shape, y_batch_embedding.shape"
   ],
   "id": "c8652bd37a970ee1",
   "outputs": [
    {
     "data": {
      "text/plain": [
       "(torch.Size([4, 16, 64]), torch.Size([4, 16, 64]))"
      ]
     },
     "execution_count": 10,
     "metadata": {},
     "output_type": "execute_result"
    }
   ],
   "execution_count": 10
  },
  {
   "metadata": {
    "ExecuteTime": {
     "end_time": "2024-11-22T08:14:03.047070Z",
     "start_time": "2024-11-22T08:14:03.037845Z"
    }
   },
   "cell_type": "code",
   "source": [
    "# position encoding\n",
    "position_encoding = torch.zeros(context_length, d_model)\n",
    "position = torch.arange(0, context_length, dtype=torch.float).unsqueeze(1)\n",
    "div_term = torch.exp(torch.arange(0, d_model, 2).float() * (-np.log(10000.0) / d_model))\n",
    "position_encoding[:, 0::2] = torch.sin(position * div_term)\n",
    "position_encoding[:, 1::2] = torch.cos(position * div_term)\n",
    "position_encoding = position_encoding.unsqueeze(0).expand(batch_size, -1, -1)\n",
    "position_encoding.shape"
   ],
   "id": "981c9d7df008e5cc",
   "outputs": [
    {
     "data": {
      "text/plain": [
       "torch.Size([4, 16, 64])"
      ]
     },
     "execution_count": 26,
     "metadata": {},
     "output_type": "execute_result"
    }
   ],
   "execution_count": 26
  },
  {
   "metadata": {
    "ExecuteTime": {
     "end_time": "2024-11-22T08:10:25.754627Z",
     "start_time": "2024-11-22T08:10:25.749459Z"
    }
   },
   "cell_type": "code",
   "source": [
    "x = x_batch_embedding + position_encoding\n",
    "y = y_batch_embedding + position_encoding\n",
    "\n",
    "x.shape"
   ],
   "id": "42e46c9071d3f653",
   "outputs": [
    {
     "data": {
      "text/plain": [
       "torch.Size([4, 16, 64])"
      ]
     },
     "execution_count": 12,
     "metadata": {},
     "output_type": "execute_result"
    }
   ],
   "execution_count": 12
  },
  {
   "metadata": {
    "ExecuteTime": {
     "end_time": "2024-11-22T08:10:25.970902Z",
     "start_time": "2024-11-22T08:10:25.788010Z"
    }
   },
   "cell_type": "code",
   "source": [
    "Wq = nn.Linear(d_model, d_model)\n",
    "Wk = nn.Linear(d_model, d_model)\n",
    "Wv = nn.Linear(d_model, d_model)\n",
    "\n",
    "Q = Wq(x)\n",
    "K = Wk(x)\n",
    "V = Wv(x)\n",
    "\n",
    "Q.shape, K.shape, V.shape"
   ],
   "id": "f716bd04866f02e6",
   "outputs": [
    {
     "data": {
      "text/plain": [
       "(torch.Size([4, 16, 64]), torch.Size([4, 16, 64]), torch.Size([4, 16, 64]))"
      ]
     },
     "execution_count": 13,
     "metadata": {},
     "output_type": "execute_result"
    }
   ],
   "execution_count": 13
  },
  {
   "metadata": {
    "ExecuteTime": {
     "end_time": "2024-11-22T08:10:26.009578Z",
     "start_time": "2024-11-22T08:10:26.003452Z"
    }
   },
   "cell_type": "code",
   "source": [
    "num_head = 4\n",
    "Q = Q.reshape(batch_size, context_length, num_head, d_model//num_head).permute(0, 2, 1, 3)\n",
    "K = K.reshape(batch_size, context_length, num_head, d_model//num_head).permute(0, 2, 3, 1)\n",
    "V = V.reshape(batch_size, context_length, num_head, d_model//num_head).permute(0, 2, 1, 3)"
   ],
   "id": "62c950705dbd1518",
   "outputs": [],
   "execution_count": 14
  },
  {
   "metadata": {
    "ExecuteTime": {
     "end_time": "2024-11-22T08:10:26.069124Z",
     "start_time": "2024-11-22T08:10:26.063116Z"
    }
   },
   "cell_type": "code",
   "source": [
    "output = Q @ K / np.sqrt(d_model//num_head)\n",
    "output.shape"
   ],
   "id": "a62db0c740cfa585",
   "outputs": [
    {
     "data": {
      "text/plain": [
       "torch.Size([4, 4, 16, 16])"
      ]
     },
     "execution_count": 15,
     "metadata": {},
     "output_type": "execute_result"
    }
   ],
   "execution_count": 15
  },
  {
   "metadata": {
    "ExecuteTime": {
     "end_time": "2024-11-22T08:10:26.131220Z",
     "start_time": "2024-11-22T08:10:26.125767Z"
    }
   },
   "cell_type": "code",
   "source": [
    "# apply mask\n",
    "mask = torch.triu(torch.ones(context_length, context_length), diagonal=1).bool()\n",
    "output = output.masked_fill(mask, -np.inf)"
   ],
   "id": "99858381cbb74a8b",
   "outputs": [],
   "execution_count": 16
  },
  {
   "metadata": {
    "ExecuteTime": {
     "end_time": "2024-11-22T08:10:26.196178Z",
     "start_time": "2024-11-22T08:10:26.189484Z"
    }
   },
   "cell_type": "code",
   "source": [
    "# apply softmax\n",
    "attn = F.softmax(output, dim=-1)\n",
    "# apply attention and v\n",
    "A = attn @ V\n",
    "A.shape"
   ],
   "id": "8936bd444410500d",
   "outputs": [
    {
     "data": {
      "text/plain": [
       "torch.Size([4, 4, 16, 16])"
      ]
     },
     "execution_count": 17,
     "metadata": {},
     "output_type": "execute_result"
    }
   ],
   "execution_count": 17
  },
  {
   "metadata": {
    "ExecuteTime": {
     "end_time": "2024-11-22T08:10:26.279329Z",
     "start_time": "2024-11-22T08:10:26.268763Z"
    }
   },
   "cell_type": "code",
   "source": [
    "# apply concatenate\n",
    "A = A.transpose(1, 2).reshape(batch_size, -1, d_model)\n",
    "Wo = nn.Linear(d_model, d_model)\n",
    "output = Wo(A)\n",
    "output.shape"
   ],
   "id": "8a171ce9e5dbdbdb",
   "outputs": [
    {
     "data": {
      "text/plain": [
       "torch.Size([4, 16, 64])"
      ]
     },
     "execution_count": 18,
     "metadata": {},
     "output_type": "execute_result"
    }
   ],
   "execution_count": 18
  },
  {
   "metadata": {
    "ExecuteTime": {
     "end_time": "2024-11-22T08:10:26.352075Z",
     "start_time": "2024-11-22T08:10:26.345923Z"
    }
   },
   "cell_type": "code",
   "source": [
    "# appli residual connection\n",
    "output = x + output\n",
    "# apply layer normalization\n",
    "ln = nn.LayerNorm(d_model)\n",
    "layer_norm_output = ln(output)"
   ],
   "id": "7d20addbbb95933c",
   "outputs": [],
   "execution_count": 19
  },
  {
   "metadata": {
    "ExecuteTime": {
     "end_time": "2024-11-22T08:10:26.435232Z",
     "start_time": "2024-11-22T08:10:26.423479Z"
    }
   },
   "cell_type": "code",
   "source": [
    "# apply feed forward\n",
    "FF = nn.Sequential(\n",
    "    nn.Linear(d_model, d_model * 4),\n",
    "    nn.ReLU(),\n",
    "    nn.Linear(d_model * 4, d_model)\n",
    ")\n",
    "output = FF(layer_norm_output)\n",
    "output.shape"
   ],
   "id": "a53ed4e02a6efb85",
   "outputs": [
    {
     "data": {
      "text/plain": [
       "torch.Size([4, 16, 64])"
      ]
     },
     "execution_count": 20,
     "metadata": {},
     "output_type": "execute_result"
    }
   ],
   "execution_count": 20
  },
  {
   "metadata": {
    "ExecuteTime": {
     "end_time": "2024-11-22T08:10:26.506927Z",
     "start_time": "2024-11-22T08:10:26.503277Z"
    }
   },
   "cell_type": "code",
   "source": [
    "# apply residual connection\n",
    "output = layer_norm_output + output\n",
    "# apply layer normalization\n",
    "output = ln(output)"
   ],
   "id": "64b8a9bf82cba789",
   "outputs": [],
   "execution_count": 21
  },
  {
   "metadata": {
    "ExecuteTime": {
     "end_time": "2024-11-22T08:10:26.679012Z",
     "start_time": "2024-11-22T08:10:26.579047Z"
    }
   },
   "cell_type": "code",
   "source": [
    "# apply final linear layer\n",
    "final_linear = nn.Linear(d_model, max_token_value+1)\n",
    "output = final_linear(output)\n",
    "output.shape"
   ],
   "id": "606cdf84b9872fee",
   "outputs": [
    {
     "data": {
      "text/plain": [
       "torch.Size([4, 16, 100070])"
      ]
     },
     "execution_count": 22,
     "metadata": {},
     "output_type": "execute_result"
    }
   ],
   "execution_count": 22
  },
  {
   "metadata": {
    "ExecuteTime": {
     "end_time": "2024-11-22T08:10:26.767150Z",
     "start_time": "2024-11-22T08:10:26.744843Z"
    }
   },
   "cell_type": "code",
   "source": [
    " # apply softmax\n",
    "logits = F.softmax(output, dim=-1)\n",
    "predicate_index = torch.argmax(logits[0, 0]).item()\n",
    "encoding.decode([predicate_index])"
   ],
   "id": "74e66914e3f7e82b",
   "outputs": [
    {
     "data": {
      "text/plain": [
       "' FileWriter'"
      ]
     },
     "execution_count": 23,
     "metadata": {},
     "output_type": "execute_result"
    }
   ],
   "execution_count": 23
  },
  {
   "metadata": {
    "ExecuteTime": {
     "end_time": "2024-11-22T08:10:26.908005Z",
     "start_time": "2024-11-22T08:10:26.905085Z"
    }
   },
   "cell_type": "code",
   "source": "",
   "id": "28d3056b54337090",
   "outputs": [],
   "execution_count": null
  }
 ],
 "metadata": {
  "kernelspec": {
   "display_name": "Python 3 (ipykernel)",
   "language": "python",
   "name": "python3"
  },
  "language_info": {
   "codemirror_mode": {
    "name": "ipython",
    "version": 3
   },
   "file_extension": ".py",
   "mimetype": "text/x-python",
   "name": "python",
   "nbconvert_exporter": "python",
   "pygments_lexer": "ipython3",
   "version": "3.12.4"
  }
 },
 "nbformat": 4,
 "nbformat_minor": 5
}
